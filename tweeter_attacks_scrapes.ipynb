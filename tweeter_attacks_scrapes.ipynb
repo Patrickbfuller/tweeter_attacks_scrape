{
 "cells": [
  {
   "cell_type": "code",
   "execution_count": 137,
   "metadata": {},
   "outputs": [],
   "source": [
    "from selenium.webdriver import Chrome\n",
    "import pandas as pd\n",
    "import requests\n",
    "import random\n",
    "import time\n",
    "import json\n",
    "from scrape_funxns import get_article_links, get_data_from_article"
   ]
  },
  {
   "cell_type": "code",
   "execution_count": 45,
   "metadata": {},
   "outputs": [
    {
     "name": "stdout",
     "output_type": "stream",
     "text": [
      "The autoreload extension is already loaded. To reload it, use:\n",
      "  %reload_ext autoreload\n"
     ]
    }
   ],
   "source": [
    "%load_ext autoreload\n",
    "%autoreload 2"
   ]
  },
  {
   "cell_type": "code",
   "execution_count": 178,
   "metadata": {},
   "outputs": [],
   "source": [
    "browser = Chrome()\n",
    "url = (f'http://mailman11.u.washington.edu/mailman/mmsearch/tweeters?restrict=;/'\n",
    "       'exclude=;config=tweeters;method=and;format=long;sort=score;words=attack;page={page_num}')\n",
    "page_num=1\n",
    "browser.get(url)"
   ]
  },
  {
   "cell_type": "code",
   "execution_count": null,
   "metadata": {},
   "outputs": [],
   "source": [
    "browser."
   ]
  },
  {
   "cell_type": "code",
   "execution_count": 149,
   "metadata": {},
   "outputs": [],
   "source": [
    "# sel = 'dt a'\n",
    "# links = browser.find_elements_by_css_selector(sel)"
   ]
  },
  {
   "cell_type": "code",
   "execution_count": 181,
   "metadata": {},
   "outputs": [],
   "source": [
    "links = get_article_links(browser)"
   ]
  },
  {
   "cell_type": "code",
   "execution_count": 182,
   "metadata": {},
   "outputs": [],
   "source": [
    "first_link = links[0]"
   ]
  },
  {
   "cell_type": "code",
   "execution_count": 183,
   "metadata": {},
   "outputs": [
    {
     "data": {
      "text/plain": [
       "'http://mailman11.u.washington.edu/mailman/htdig/tweeters/2017-September/024664.html'"
      ]
     },
     "execution_count": 183,
     "metadata": {},
     "output_type": "execute_result"
    }
   ],
   "source": [
    "first_link.get_attribute('href')"
   ]
  },
  {
   "cell_type": "code",
   "execution_count": 158,
   "metadata": {},
   "outputs": [],
   "source": [
    "# first_link.get_attribute('href')"
   ]
  },
  {
   "cell_type": "code",
   "execution_count": null,
   "metadata": {},
   "outputs": [],
   "source": [
    "# links = list(map(lambda x: x.get))"
   ]
  },
  {
   "cell_type": "code",
   "execution_count": 188,
   "metadata": {},
   "outputs": [
    {
     "name": "stdout",
     "output_type": "stream",
     "text": [
      "click successful<selenium.webdriver.remote.webelement.WebElement (session=\"6c737e655abeb8e5cf06fcbad2034770\", element=\"0.5896239599855408-1\")>\n",
      "<class 'str'>\n",
      "data get successful<selenium.webdriver.remote.webelement.WebElement (session=\"6c737e655abeb8e5cf06fcbad2034770\", element=\"0.5896239599855408-1\")>\n",
      "back success\n",
      "click successful<selenium.webdriver.remote.webelement.WebElement (session=\"6c737e655abeb8e5cf06fcbad2034770\", element=\"0.3336799674635684-2\")>\n",
      "<class 'str'>\n",
      "data get successful<selenium.webdriver.remote.webelement.WebElement (session=\"6c737e655abeb8e5cf06fcbad2034770\", element=\"0.3336799674635684-2\")>\n",
      "back success\n",
      "click successful<selenium.webdriver.remote.webelement.WebElement (session=\"6c737e655abeb8e5cf06fcbad2034770\", element=\"0.8290926280359907-3\")>\n",
      "<class 'str'>\n",
      "data get successful<selenium.webdriver.remote.webelement.WebElement (session=\"6c737e655abeb8e5cf06fcbad2034770\", element=\"0.8290926280359907-3\")>\n",
      "back success\n",
      "click successful<selenium.webdriver.remote.webelement.WebElement (session=\"6c737e655abeb8e5cf06fcbad2034770\", element=\"0.5241841201209443-4\")>\n",
      "<class 'str'>\n",
      "data get successful<selenium.webdriver.remote.webelement.WebElement (session=\"6c737e655abeb8e5cf06fcbad2034770\", element=\"0.5241841201209443-4\")>\n",
      "back success\n",
      "click successful<selenium.webdriver.remote.webelement.WebElement (session=\"6c737e655abeb8e5cf06fcbad2034770\", element=\"0.013062115481592862-5\")>\n",
      "<class 'str'>\n",
      "data get successful<selenium.webdriver.remote.webelement.WebElement (session=\"6c737e655abeb8e5cf06fcbad2034770\", element=\"0.013062115481592862-5\")>\n",
      "back success\n",
      "click successful<selenium.webdriver.remote.webelement.WebElement (session=\"6c737e655abeb8e5cf06fcbad2034770\", element=\"0.6081237672350963-6\")>\n",
      "<class 'str'>\n",
      "data get successful<selenium.webdriver.remote.webelement.WebElement (session=\"6c737e655abeb8e5cf06fcbad2034770\", element=\"0.6081237672350963-6\")>\n",
      "back success\n",
      "click successful<selenium.webdriver.remote.webelement.WebElement (session=\"6c737e655abeb8e5cf06fcbad2034770\", element=\"0.7338929178128613-7\")>\n",
      "<class 'str'>\n",
      "data get successful<selenium.webdriver.remote.webelement.WebElement (session=\"6c737e655abeb8e5cf06fcbad2034770\", element=\"0.7338929178128613-7\")>\n",
      "back success\n",
      "click successful<selenium.webdriver.remote.webelement.WebElement (session=\"6c737e655abeb8e5cf06fcbad2034770\", element=\"0.9516662171281043-8\")>\n",
      "<class 'str'>\n",
      "data get successful<selenium.webdriver.remote.webelement.WebElement (session=\"6c737e655abeb8e5cf06fcbad2034770\", element=\"0.9516662171281043-8\")>\n",
      "back success\n",
      "click successful<selenium.webdriver.remote.webelement.WebElement (session=\"6c737e655abeb8e5cf06fcbad2034770\", element=\"0.3455506406365976-9\")>\n",
      "<class 'str'>\n",
      "data get successful<selenium.webdriver.remote.webelement.WebElement (session=\"6c737e655abeb8e5cf06fcbad2034770\", element=\"0.3455506406365976-9\")>\n",
      "back success\n",
      "click successful<selenium.webdriver.remote.webelement.WebElement (session=\"6c737e655abeb8e5cf06fcbad2034770\", element=\"0.15094569238751765-10\")>\n",
      "<class 'str'>\n",
      "data get successful<selenium.webdriver.remote.webelement.WebElement (session=\"6c737e655abeb8e5cf06fcbad2034770\", element=\"0.15094569238751765-10\")>\n",
      "back success\n"
     ]
    }
   ],
   "source": [
    "articles = []\n",
    "browser.get(url)\n",
    "links = get_article_links(browser)\n",
    "for i in range(len(links)):\n",
    "    link = get_article_links(browser)[i]\n",
    "    link.click()\n",
    "    print(f'click successful{link}')\n",
    "    articles.append(get_data_from_article(browser))\n",
    "    print(f'data get successful{link}')\n",
    "    browser.back()\n",
    "    print('back success')"
   ]
  },
  {
   "cell_type": "code",
   "execution_count": 190,
   "metadata": {},
   "outputs": [
    {
     "data": {
      "text/plain": [
       "{'title': 'Barred owl attack? Why now?',\n",
       " 'author': 'J. Acker',\n",
       " 'date': 'Sun Sep 20 12:43:46 PDT 2015',\n",
       " 'text': 'These events are reported annually at this time of year.\\n\\n\\n\\nThis is from my response to this question from 9/19/2014.\\n\\n\\n\\n\"These events are reported annually at this time of year. I had someone\\ntwo weeks ago contact me from Virginia inquiring about a Barred Owl attack\\non a human.\\n\\n\\n\\nWhile the ARAB (Autumnal Recrudescence of Amatory Behavior) theory may be at\\nleast partially responsible, I also believe that these attacks have a lot to\\ndo with perceived territorial violations. Barred Owls have had their young\\ndispersed for about a month now, and the youngsters are out seeking their\\nown territories. Resident Barred Owls are much more vocal, as if by calling\\nthey announce to any dispersed juvies in the area that \"this turf is taken;\\nkeep moving on\". Adult Barred Owls that had young this past season are just\\nnow completing their molt (some of them, particularly the males as their\\nmolt pattern lags behind the females)are looking a bit ratty, especially\\nabout the head. Molting requires additional calories, which are now\\navailable to them since they are no longer feeding young, however, the food\\nsupply is starting to dwindle as the \"survival of the fittest\" and the end\\nof the breeding season hits. Following molt, barred owls will begin packing\\non body mass in anticipation of next year\\'s breeding cycle. Adults have\\nexperienced winter, and are most likely proactive in obtaining food while\\nthey can, also increasing their turf defensiveness.\\n\\n\\n\\nPreferred human targets seem to be women joggers with pony tails or ball\\ncaps. Most attacks occur in the early evening or pre-dawn am. I would\\nsuspect that virtually all attacks on humans are done by adult owls\\n(males?), though I have no proof. Juvies are rarely vocal at this time of\\nyear, and tend to keep a low profile when I conduct my surveys.\\n\\n\\n\\n-J. Acker\\n\\nowler at sounddsl.com <mailto:owler at sounddsl.com>\\n\\nBainbridge Island, WA\\n\\n\\n\\n\\n\\nSubject: [Tweeters] Barred owl attack? Why now?\\n\\n\\n\\nA neighbor just came over traumatized from her evening walk having been hit\\non the scalp by a large owl which I assume is a barred owl since they are\\ncommon around here now. It was a good 6 inch scratch with a couple of\\npunctures as well. I understand they are territorial around nests but why\\nwould an owl attack now?\\n\\n\\n\\nRob Sandelin\\n\\nKeepin an eye peeled\\n\\nPrevious message: [Tweeters] Barred owl attack? Why now?\\nNext message: [Tweeters] Sunrise (not a bird trip)\\nMessages sorted by: [ date ] [ thread ] [ subject ] [ author ]\\nMore information about the Tweeters mailing list'}"
      ]
     },
     "execution_count": 190,
     "metadata": {},
     "output_type": "execute_result"
    }
   ],
   "source": [
    "articles[1]"
   ]
  },
  {
   "cell_type": "code",
   "execution_count": null,
   "metadata": {},
   "outputs": [],
   "source": []
  },
  {
   "cell_type": "code",
   "execution_count": null,
   "metadata": {},
   "outputs": [],
   "source": []
  }
 ],
 "metadata": {
  "kernelspec": {
   "display_name": "learn-env",
   "language": "python",
   "name": "learn-env"
  },
  "language_info": {
   "codemirror_mode": {
    "name": "ipython",
    "version": 3
   },
   "file_extension": ".py",
   "mimetype": "text/x-python",
   "name": "python",
   "nbconvert_exporter": "python",
   "pygments_lexer": "ipython3",
   "version": "3.6.6"
  }
 },
 "nbformat": 4,
 "nbformat_minor": 2
}
