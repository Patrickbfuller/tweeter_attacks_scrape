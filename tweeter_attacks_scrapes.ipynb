{
 "cells": [
  {
   "cell_type": "code",
   "execution_count": 29,
   "metadata": {},
   "outputs": [],
   "source": [
    "from selenium.webdriver import Chrome\n",
    "import pandas as pd\n",
    "import requests\n",
    "import pymongo\n",
    "import random\n",
    "import time\n",
    "import json\n",
    "from scrape_funxns import get_article_links, get_data_from_article, scrape_articles_of_page"
   ]
  },
  {
   "cell_type": "code",
   "execution_count": 14,
   "metadata": {},
   "outputs": [
    {
     "name": "stdout",
     "output_type": "stream",
     "text": [
      "The autoreload extension is already loaded. To reload it, use:\n",
      "  %reload_ext autoreload\n"
     ]
    }
   ],
   "source": [
    "%load_ext autoreload\n",
    "%autoreload 2"
   ]
  },
  {
   "cell_type": "code",
   "execution_count": 21,
   "metadata": {},
   "outputs": [],
   "source": [
    "browser = Chrome()"
   ]
  },
  {
   "cell_type": "code",
   "execution_count": 22,
   "metadata": {},
   "outputs": [],
   "source": [
    "url = (f'http://mailman11.u.washington.edu/mailman/mmsearch/tweeters?restrict=;/'\n",
    "       f'exclude=;config=tweeters;method=and;format=long;sort=score;words=attack;page={page_num}')\n",
    "page_num=1\n",
    "browser.get(url)"
   ]
  },
  {
   "cell_type": "code",
   "execution_count": null,
   "metadata": {},
   "outputs": [],
   "source": [
    "# sel = 'dt a'\n",
    "# links = browser.find_elements_by_css_selector(sel)"
   ]
  },
  {
   "cell_type": "code",
   "execution_count": null,
   "metadata": {},
   "outputs": [],
   "source": [
    "links = get_article_links(browser)"
   ]
  },
  {
   "cell_type": "code",
   "execution_count": null,
   "metadata": {},
   "outputs": [],
   "source": [
    "first_link = links[0]"
   ]
  },
  {
   "cell_type": "code",
   "execution_count": null,
   "metadata": {},
   "outputs": [],
   "source": [
    "first_link.get_attribute('href')"
   ]
  },
  {
   "cell_type": "code",
   "execution_count": null,
   "metadata": {},
   "outputs": [],
   "source": [
    "# first_link.get_attribute('href')"
   ]
  },
  {
   "cell_type": "code",
   "execution_count": 28,
   "metadata": {},
   "outputs": [],
   "source": [
    "# links = list(map(lambda x: x.get))"
   ]
  },
  {
   "cell_type": "code",
   "execution_count": 23,
   "metadata": {},
   "outputs": [
    {
     "name": "stdout",
     "output_type": "stream",
     "text": [
      "<class 'str'>\n",
      "<class 'str'>\n",
      "<class 'str'>\n",
      "<class 'str'>\n",
      "<class 'str'>\n",
      "<class 'str'>\n",
      "<class 'str'>\n",
      "<class 'str'>\n",
      "<class 'str'>\n",
      "<class 'str'>\n"
     ]
    }
   ],
   "source": [
    "\n",
    "articles = []\n",
    "browser.get(url)\n",
    "links = get_article_links(browser)\n",
    "for article in scrape_articles_of_page(browser, links):\n",
    "    articles.append(article)\n",
    "    #put in mongo collection.insert_one(article)   create a collection earlier"
   ]
  },
  {
   "cell_type": "code",
   "execution_count": 26,
   "metadata": {},
   "outputs": [
    {
     "data": {
      "text/plain": [
       "{'title': 'Owl Attack',\n",
       " 'author': 'Paul Bannick',\n",
       " 'date': 'Sun Sep 17 10:50:24 PDT 2017',\n",
       " 'text': 'Hi Tweets,\\n\\nJamie Acker and I had have discussed these \"encounters\" at length. I prefer\\nnot use the work \"attack\" as most of the these encounters are brief bumps\\non the head, although sometimes talons are extended.\\n\\nThese encounters happen when many large owls are on the move and are more\\nlikely to encounter one another. It is also possible that the length of\\nthe day at this time of the year (the photo-period is the same as it is\\nduring spring breeding) may trigger hormones and make the owls more\\naggressive and reactive.\\n\\nIn the fall and early winter young owls are dispersing from their natal\\nterritories, and adult owls are moving beyond boundaries of the nesting\\nterritories as they utilize more of their home ranges. These things are\\nhappening at the same time with Barred Owls and Great Horned Owls, making\\nowl encounters between large owls more likely. The adults that occupy the\\nterritory, perhaps the males in particular, are more focused on enforcing\\nboundaries, resulting in encounters among owls and between owls and large\\nanimals, including humans.\\n\\nThe best advice as Christina suggested is to avoid those areas as this time\\nof the year or heed the owl warning and move on.\\n\\nPaul\\n\\n\\n\\n\\n\\nOn Fri, Sep 15, 2017 at 12:40 PM, Steve Loitz <steveloitz at gmail.com> wrote:\\n\\n\\n> In the past 25 years of running trails at Tiger Mtn., several individuals\\n\\n> in my party have been bonked in the head by Barred Owls. All of them had a\\n\\n> pretty good head of hair. OTOH, I am bald and thus immune to such attacks.\\n\\n>\\n\\n> My favorite owl episode at Tiger Mtn. occurred 20+ years ago when I went\\n\\n> off the trail into the woods to relieve myself and found myself\\n\\n> face-to-face 3 feet away from a curious Northern Pygmy-Owl.\\n\\n>\\n\\n> Steve Loitz\\n\\n> Ellensburg WA\\n\\n> steveloitz at gmail.com\\n\\n>\\n\\n> On Fri, Sep 15, 2017 at 12:19 PM, Nadine Drisseq <bearsmartwa at gmail.com>\\n\\n> wrote:\\n\\n>\\n\\n>> HI Jeremy,\\n\\n>>\\n\\n>> 14th Pl NE and NE Falls Dr. is just one of several areas in Issaquah\\n\\n>> Highlands where a number of people experienced owl attacks on or around\\n\\n>> this date last year. Is it possible that Barred Owlets are starting to\\n\\n>> leave the parental home range, so that parents might be acting extra\\n\\n>> protective at this time of year? I posted the warning of early morning\\n\\n>> attacks on the Issaquah Highlands FB Group, advising people to wear hats at\\n\\n>> that time since I do Bear Smart and wildlife educational outreach in the\\n\\n>> community. So, thanks for sharing your post. Perhaps we\\'ll get some\\n\\n>> responses with owl ID\\'s.\\n\\n>>\\n\\n>>\\n\\n>> *Nadine Drisseq*\\n\\n>> *Biologist, **Bear Smart WA*\\n\\n>>\\n\\n>> *PO Box 152*\\n\\n>> *Issaquah, WA. 98027*\\n\\n>>\\n\\n>> Tel: (530) 628-7787 (call / text)\\n\\n>> bearsmartwa at gmail.com\\n\\n>> https://www.facebook.com/BearSmartWA/\\n\\n>>\\n\\n>> On Sat, Sep 9, 2017 at 9:44 AM, Jeremy Davis <davisjp23 at hotmail.com>\\n\\n>> wrote:\\n\\n>>\\n\\n>>> Hey all,\\n\\n>>>\\n\\n>>> I was sent this from a buddy of mine who saw it on the Facebook page for\\n\\n>>> the Seattle Mountain Running Group. Be careful out there!\\n\\n>>>\\n\\n>>> Thanks,\\n\\n>>> Jeremy Davis\\n\\n>>> Kenmore, WA\\n\\n>>>\\n\\n>>> ~~~~~~~\\n\\n>>>\\n\\n>>> Jeff Ziegler > Seattle Mountain Running Group\\n\\n>>>\\n\\n>>> Around 5:50 this morning, I was running behind Issaquah High School and\\n\\n>>> had just turned onto the High School Trail to head up to the Lake Tradition\\n\\n>>> Plateau, when I was hit on the back of the head. I turned around to see if\\n\\n>>> someone had snuck up behind me or if I had hit a low branch. Seeing\\n\\n>>> nothing, I again faced forward and saw what I thought was a reflection of\\n\\n>>> an eyeball from my hand lamp moving up the trail around the corner. I\\n\\n>>> followed around the corner, shined my light up the trail and saw an owl\\n\\n>>> sitting on a branch about 100 feet ahead. Deciding it would be best to not\\n\\n>>> continue up the trail, I turned around and headed back the way I had come.\\n\\n>>> I had traveled maybe 30-40 feet when I was again struck on the back of the\\n\\n>>> head. This time I backed up the trail towards the high school parking lot\\n\\n>>> as the owl watched from a branch.\\n\\n>>>\\n\\n>>> At this point I was a little spooked, so I decided to run around in town\\n\\n>>> for a while. As it started to get light and I turned off my hand lamp, I\\n\\n>>> realized I wasn’t wearing my headlamp anymore. What I had thought had been\\n\\n>>> the reflection of light from the owls eye, was actually my headlamp the owl\\n\\n>>> was carrying up the trail after picking it off my head.\\n\\n>>>\\n\\n>>> I then headed to Grand Ridge. Around 7:15as I was heading down the\\n\\n>>> Grand Ridge Trail, a commotion stirred about 10 feet in front of me as an\\n\\n>>> owl took flight from a stump, and took up watch perched on a branch above\\n\\n>>> the trail in front of me. Learning my lesson from earlier, I picked up a\\n\\n>>> stick and started back pedaling back up the trail. I took a quick look\\n\\n>>> behind me to check out where I was going, and when I turned back forward, I\\n\\n>>> saw the owl had swooped down towards me. I started waving the stick in\\n\\n>>> front of me and over my head. The owl put the brakes on mid-air,\\n\\n>>> momentarily hovered over me, and then retreated to a branch a couple of\\n\\n>>> dozen feet in front of me. Without taking my eye off the owl, I reached\\n\\n>>> down, picked up a rock, and threw it off the trunk of the tree the owl was\\n\\n>>> on, and it retreated to another tree farther down the trail. I continued\\n\\n>>> back pedaling up the trail until the owl was well out of site.\\n\\n>>>\\n\\n>>> I then headed back across I-90 to the Lake Tradition Plateau. Around\\n\\n>>> 8:00 I picked up a stick at the top of the High School Trail and headed\\n\\n>>> down with the intent to look for my headlamp. About half way down I had\\n\\n>>> second thoughts and decided I would detour onto what I think is the\\n\\n>>> Boundary Trail through Park Pointe. Just as I made that decision, I was\\n\\n>>> nailed on the back of the head for the third time this morning. I’m not\\n\\n>>> sure if it was the same owl as from the first attack, but I was probably\\n\\n>>> still .4 of mile up the trail from where the first attacked had occurred.\\n\\n>>> Once again I back pedaled up the trail until the owl was well out of site.\\n\\n>>> I probably look pretty stupid the last couple of miles back to my car\\n\\n>>> waving a stick in the air, and my head on a swivel.\\n\\n>>>\\n\\n>>> I’m not sure what the deal is. I’ve run hundreds of miles on Grand Ridge\\n\\n>>> and Tiger Mountain, including a few dozen in the dark, and never been\\n\\n>>> attacked or buzzed by an owl, much less three times in one morning. I’m now\\n\\n>>> in the market for a new headlamp, and maybe a helmet and body armor.\\n\\n>>>\\n\\n>>> ~~~~~~~\\n\\n>>>\\n\\n>>> Sent from my iPhone\\n\\n>>>\\n\\n>>> _______________________________________________\\n\\n>>> Tweeters mailing list\\n\\n>>> Tweeters at u.washington.edu\\n\\n>>> http://mailman1.u.washington.edu/mailman/listinfo/tweeters\\n\\n>>>\\n\\n>>>\\n\\n>>\\n\\n>> _______________________________________________\\n\\n>> Tweeters mailing list\\n\\n>> Tweeters at u.washington.edu\\n\\n>> http://mailman1.u.washington.edu/mailman/listinfo/tweeters\\n\\n>>\\n\\n>>\\n\\n>\\n\\n>\\n\\n> _______________________________________________\\n\\n> Tweeters mailing list\\n\\n> Tweeters at u.washington.edu\\n\\n> http://mailman1.u.washington.edu/mailman/listinfo/tweeters\\n\\n>\\n\\n>\\n\\n\\n\\n--\\nNow Available:\\nOwl: A Year in the Lives of North American Owls at:\\nhttp://paulbannick.com/shop/owl-a-year-in-the-lives-of-north-american-owls/\\n\\n\\nPaul Bannick Photography\\nwww.paulbannick.com\\n206-940-7835\\nPrevious message: [Tweeters] Owl Attack\\nNext message: [Tweeters] Owl Attack\\nMessages sorted by: [ date ] [ thread ] [ subject ] [ author ]\\nMore information about the Tweeters mailing list'}"
      ]
     },
     "execution_count": 26,
     "metadata": {},
     "output_type": "execute_result"
    }
   ],
   "source": []
  },
  {
   "cell_type": "code",
   "execution_count": 12,
   "metadata": {},
   "outputs": [],
   "source": [
    "page_num = 100\n",
    "url = (f'http://mailman11.u.washington.edu/mailman/mmsearch/tweeters?restrict=;/'\n",
    "       f'exclude=;config=tweeters;method=and;format=long;sort=score;words=attack;page={page_num}')\n",
    "browser.get(url)"
   ]
  },
  {
   "cell_type": "code",
   "execution_count": 9,
   "metadata": {},
   "outputs": [
    {
     "data": {
      "text/plain": [
       "'http://mailman11.u.washington.edu/mailman/mmsearch/tweeters?restrict=;/exclude=;config=tweeters;method=and;format=long;sort=score;words=attack;page={page_num}'"
      ]
     },
     "execution_count": 9,
     "metadata": {},
     "output_type": "execute_result"
    }
   ],
   "source": [
    "url"
   ]
  },
  {
   "cell_type": "code",
   "execution_count": 20,
   "metadata": {},
   "outputs": [
    {
     "ename": "NoSuchWindowException",
     "evalue": "Message: no such window: window was already closed\n  (Session info: chrome=74.0.3729.108)\n  (Driver info: chromedriver=74.0.3729.6 (255758eccf3d244491b8a1317aa76e1ce10d57e9-refs/branch-heads/3729@{#29}),platform=Mac OS X 10.14.3 x86_64)\n",
     "output_type": "error",
     "traceback": [
      "\u001b[0;31m---------------------------------------------------------------------------\u001b[0m",
      "\u001b[0;31mNoSuchWindowException\u001b[0m                     Traceback (most recent call last)",
      "\u001b[0;32m<ipython-input-20-917f31f2517d>\u001b[0m in \u001b[0;36m<module>\u001b[0;34m()\u001b[0m\n\u001b[0;32m----> 1\u001b[0;31m \u001b[0mbrowser\u001b[0m\u001b[0;34m.\u001b[0m\u001b[0mget\u001b[0m\u001b[0;34m(\u001b[0m\u001b[0murl\u001b[0m\u001b[0;34m)\u001b[0m\u001b[0;34m\u001b[0m\u001b[0m\n\u001b[0m",
      "\u001b[0;32m/Applications/anaconda3/envs/learn-env/lib/python3.6/site-packages/selenium/webdriver/remote/webdriver.py\u001b[0m in \u001b[0;36mget\u001b[0;34m(self, url)\u001b[0m\n\u001b[1;32m    331\u001b[0m         \u001b[0mLoads\u001b[0m \u001b[0ma\u001b[0m \u001b[0mweb\u001b[0m \u001b[0mpage\u001b[0m \u001b[0;32min\u001b[0m \u001b[0mthe\u001b[0m \u001b[0mcurrent\u001b[0m \u001b[0mbrowser\u001b[0m \u001b[0msession\u001b[0m\u001b[0;34m.\u001b[0m\u001b[0;34m\u001b[0m\u001b[0m\n\u001b[1;32m    332\u001b[0m         \"\"\"\n\u001b[0;32m--> 333\u001b[0;31m         \u001b[0mself\u001b[0m\u001b[0;34m.\u001b[0m\u001b[0mexecute\u001b[0m\u001b[0;34m(\u001b[0m\u001b[0mCommand\u001b[0m\u001b[0;34m.\u001b[0m\u001b[0mGET\u001b[0m\u001b[0;34m,\u001b[0m \u001b[0;34m{\u001b[0m\u001b[0;34m'url'\u001b[0m\u001b[0;34m:\u001b[0m \u001b[0murl\u001b[0m\u001b[0;34m}\u001b[0m\u001b[0;34m)\u001b[0m\u001b[0;34m\u001b[0m\u001b[0m\n\u001b[0m\u001b[1;32m    334\u001b[0m \u001b[0;34m\u001b[0m\u001b[0m\n\u001b[1;32m    335\u001b[0m     \u001b[0;34m@\u001b[0m\u001b[0mproperty\u001b[0m\u001b[0;34m\u001b[0m\u001b[0m\n",
      "\u001b[0;32m/Applications/anaconda3/envs/learn-env/lib/python3.6/site-packages/selenium/webdriver/remote/webdriver.py\u001b[0m in \u001b[0;36mexecute\u001b[0;34m(self, driver_command, params)\u001b[0m\n\u001b[1;32m    319\u001b[0m         \u001b[0mresponse\u001b[0m \u001b[0;34m=\u001b[0m \u001b[0mself\u001b[0m\u001b[0;34m.\u001b[0m\u001b[0mcommand_executor\u001b[0m\u001b[0;34m.\u001b[0m\u001b[0mexecute\u001b[0m\u001b[0;34m(\u001b[0m\u001b[0mdriver_command\u001b[0m\u001b[0;34m,\u001b[0m \u001b[0mparams\u001b[0m\u001b[0;34m)\u001b[0m\u001b[0;34m\u001b[0m\u001b[0m\n\u001b[1;32m    320\u001b[0m         \u001b[0;32mif\u001b[0m \u001b[0mresponse\u001b[0m\u001b[0;34m:\u001b[0m\u001b[0;34m\u001b[0m\u001b[0m\n\u001b[0;32m--> 321\u001b[0;31m             \u001b[0mself\u001b[0m\u001b[0;34m.\u001b[0m\u001b[0merror_handler\u001b[0m\u001b[0;34m.\u001b[0m\u001b[0mcheck_response\u001b[0m\u001b[0;34m(\u001b[0m\u001b[0mresponse\u001b[0m\u001b[0;34m)\u001b[0m\u001b[0;34m\u001b[0m\u001b[0m\n\u001b[0m\u001b[1;32m    322\u001b[0m             response['value'] = self._unwrap_value(\n\u001b[1;32m    323\u001b[0m                 response.get('value', None))\n",
      "\u001b[0;32m/Applications/anaconda3/envs/learn-env/lib/python3.6/site-packages/selenium/webdriver/remote/errorhandler.py\u001b[0m in \u001b[0;36mcheck_response\u001b[0;34m(self, response)\u001b[0m\n\u001b[1;32m    240\u001b[0m                 \u001b[0malert_text\u001b[0m \u001b[0;34m=\u001b[0m \u001b[0mvalue\u001b[0m\u001b[0;34m[\u001b[0m\u001b[0;34m'alert'\u001b[0m\u001b[0;34m]\u001b[0m\u001b[0;34m.\u001b[0m\u001b[0mget\u001b[0m\u001b[0;34m(\u001b[0m\u001b[0;34m'text'\u001b[0m\u001b[0;34m)\u001b[0m\u001b[0;34m\u001b[0m\u001b[0m\n\u001b[1;32m    241\u001b[0m             \u001b[0;32mraise\u001b[0m \u001b[0mexception_class\u001b[0m\u001b[0;34m(\u001b[0m\u001b[0mmessage\u001b[0m\u001b[0;34m,\u001b[0m \u001b[0mscreen\u001b[0m\u001b[0;34m,\u001b[0m \u001b[0mstacktrace\u001b[0m\u001b[0;34m,\u001b[0m \u001b[0malert_text\u001b[0m\u001b[0;34m)\u001b[0m\u001b[0;34m\u001b[0m\u001b[0m\n\u001b[0;32m--> 242\u001b[0;31m         \u001b[0;32mraise\u001b[0m \u001b[0mexception_class\u001b[0m\u001b[0;34m(\u001b[0m\u001b[0mmessage\u001b[0m\u001b[0;34m,\u001b[0m \u001b[0mscreen\u001b[0m\u001b[0;34m,\u001b[0m \u001b[0mstacktrace\u001b[0m\u001b[0;34m)\u001b[0m\u001b[0;34m\u001b[0m\u001b[0m\n\u001b[0m\u001b[1;32m    243\u001b[0m \u001b[0;34m\u001b[0m\u001b[0m\n\u001b[1;32m    244\u001b[0m     \u001b[0;32mdef\u001b[0m \u001b[0m_value_or_default\u001b[0m\u001b[0;34m(\u001b[0m\u001b[0mself\u001b[0m\u001b[0;34m,\u001b[0m \u001b[0mobj\u001b[0m\u001b[0;34m,\u001b[0m \u001b[0mkey\u001b[0m\u001b[0;34m,\u001b[0m \u001b[0mdefault\u001b[0m\u001b[0;34m)\u001b[0m\u001b[0;34m:\u001b[0m\u001b[0;34m\u001b[0m\u001b[0m\n",
      "\u001b[0;31mNoSuchWindowException\u001b[0m: Message: no such window: window was already closed\n  (Session info: chrome=74.0.3729.108)\n  (Driver info: chromedriver=74.0.3729.6 (255758eccf3d244491b8a1317aa76e1ce10d57e9-refs/branch-heads/3729@{#29}),platform=Mac OS X 10.14.3 x86_64)\n"
     ]
    }
   ],
   "source": [
    "browser.get(url)"
   ]
  },
  {
   "cell_type": "code",
   "execution_count": null,
   "metadata": {},
   "outputs": [],
   "source": [
    "art"
   ]
  },
  {
   "cell_type": "code",
   "execution_count": null,
   "metadata": {},
   "outputs": [],
   "source": []
  },
  {
   "cell_type": "code",
   "execution_count": null,
   "metadata": {},
   "outputs": [],
   "source": []
  },
  {
   "cell_type": "code",
   "execution_count": null,
   "metadata": {},
   "outputs": [],
   "source": []
  },
  {
   "cell_type": "code",
   "execution_count": null,
   "metadata": {},
   "outputs": [],
   "source": []
  }
 ],
 "metadata": {
  "kernelspec": {
   "display_name": "learn-env",
   "language": "python",
   "name": "learn-env"
  },
  "language_info": {
   "codemirror_mode": {
    "name": "ipython",
    "version": 3
   },
   "file_extension": ".py",
   "mimetype": "text/x-python",
   "name": "python",
   "nbconvert_exporter": "python",
   "pygments_lexer": "ipython3",
   "version": "3.6.6"
  }
 },
 "nbformat": 4,
 "nbformat_minor": 2
}
