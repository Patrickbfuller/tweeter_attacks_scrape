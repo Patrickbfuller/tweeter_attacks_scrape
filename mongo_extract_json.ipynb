{
 "cells": [
  {
   "cell_type": "code",
   "execution_count": 1,
   "metadata": {},
   "outputs": [],
   "source": [
    "import pymongo\n",
    "import json\n",
    "import pandas as pd"
   ]
  },
  {
   "cell_type": "code",
   "execution_count": 10,
   "metadata": {},
   "outputs": [],
   "source": [
    "mc = pymongo.MongoClient()\n",
    "db = mc['bird_attacks']\n",
    "collection = db['tweeter_reports']"
   ]
  },
  {
   "cell_type": "code",
   "execution_count": 11,
   "metadata": {},
   "outputs": [],
   "source": [
    "cur = collection.find()"
   ]
  },
  {
   "cell_type": "code",
   "execution_count": 12,
   "metadata": {},
   "outputs": [
    {
     "data": {
      "text/plain": [
       "{'_id': ObjectId('5cc399c6ec363db408bac98a'),\n",
       " 'title': 'Owl Attack',\n",
       " 'author': 'Bob Pearson',\n",
       " 'date': 'Mon Sep 18 08:31:57 PDT 2017',\n",
       " 'text': 'A few things to add about the “owl attack.” This kind of thing is open to discussion and is mainly conjecture as to the cause, based on anecdotal evidence and association. I’ve seen or heard an adult Barred Owl close to 3,000 times from about 600 different territories during my research and have been hit or swooped on from Spring through Fall, all times of year, by different owls and in different places. I’ve heard and felt an owl zoom past my head in total dark, obviously maneuvering to miss, both amazing and also worrying in a problematic way, with any contact out of my control to prevent. The behavior is not exclusive to this time of year but may increase to some degree. An owl will also “attack” an inanimate object pulled along the ground by a fishing line. I’ve had owls “attack” my watch thinking it was a prey to be taken and swoop toward something thrown through the air.\\n\\nThis behavior may be heightened somewhat this time of year according to the factors Paul raises as well as some other possibilities. When the juveniles leave, the adults, having spent an entire summer feeding a family, suddenly have a lot of extra time to do things other than feed their young. The local cupboard may be getting a little bare, causing the owls to explore a wider area. It may be this extra time is used to revisit and renegotiate territorial boundaries. The dispersing juveniles need to learn where they can go and which areas are off limits, to them a total unknown. A territorial vocal adult is a good way to let juveniles know where they shouldn’t go. There is a lot of activity this time of year and it might put the territorial adults a little bit on edge.\\n\\nThere are also factors such as individual personality and mistaken interpretation. Some owls are naturally more aggressive or energetic than others and may explain why this happens in some places while not in others. Owls are opportunists and likely to pounce upon any opportunity that presents itself. Something about a person moving through a territory might suggest what appears to be a prey opportunity and it’s worthwhile for the owl to make mistakes if some of them result in a prize. Owls are very keen on movement and sound, not so much on exact identification, which is why they will not take a dead small mammal that makes no sound or has no movement, but will chase a ball of fiber at the end of a pulled string. If a person moving past an owl makes a sound that is suggestive of a prey opportunity, or has something that looks like prey, that may be enough to trigger action. If the person running had a headlamp snatched, it seems possible it was mistaken for prey, or there may have been something else suggestive and the headlamp was incidental. A territorial action is possible and would make sense if many people were getting hit or swooped by the same owl. It could be a combination of any of these factors.\\n\\nI’m not a supporter of the hormone idea based on similar time frames for light because different owl species nest at different times but all have this increased Fall activity at the same time. The Fall behavior is not staggered in time according to species as far as I can tell.\\n\\nA possibility to prevent contact would be to change apparel, hair, or anything obvious like a headlamp, and see what happens. Or simply go somewhere else, as was suggested, since owl talons are extremely sharp and strong, eyes are obviously vulnerable, and contact is usually not anticipated before it happens. As to the reasons why this might happen, it would need some structured experimentation to bring it out of the realm of conjecture.\\n\\nBob Pearson\\nPackwood, WA\\n\\n\\nDate: Sun, 17 Sep 2017 10:50:24 -0700\\nFrom: Paul Bannick <paul.bannick at gmail.com>\\nSubject: Re: [Tweeters] Owl Attack\\nTo: Steve Loitz <steveloitz at gmail.com>\\nCc: TWEETERS <tweeters at u.washington.edu>\\nMessage-ID:\\n<CAAb_2hjh+8mvhdofsLdeQqunJNEhVmBX2FBpLwFCQpWVagNF7Q at mail.gmail.com>\\nContent-Type: text/plain; charset=\"utf-8\"\\n\\nHi Tweets,\\n\\nJamie Acker and I had have discussed these \"encounters\" at length. I prefer\\nnot use the work \"attack\" as most of the these encounters are brief bumps\\non the head, although sometimes talons are extended.\\n\\nThese encounters happen when many large owls are on the move and are more\\nlikely to encounter one another. It is also possible that the length of\\nthe day at this time of the year (the photo-period is the same as it is\\nduring spring breeding) may trigger hormones and make the owls more\\naggressive and reactive.\\n\\nIn the fall and early winter young owls are dispersing from their natal\\nterritories, and adult owls are moving beyond boundaries of the nesting\\nterritories as they utilize more of their home ranges. These things are\\nhappening at the same time with Barred Owls and Great Horned Owls, making\\nowl encounters between large owls more likely. The adults that occupy the\\nterritory, perhaps the males in particular, are more focused on enforcing\\nboundaries, resulting in encounters among owls and between owls and large\\nanimals, including humans.\\n\\nThe best advice as Christina suggested is to avoid those areas as this time\\nof the year or heed the owl warning and move on.\\n\\nPaul\\n\\n\\nOn Fri, Sep 15, 2017 at 12:40 PM, Steve Loitz <steveloitz at gmail.com> wrote:\\n\\n\\n> In the past 25 years of running trails at Tiger Mtn., several individuals\\n\\n> in my party have been bonked in the head by Barred Owls. All of them had a\\n\\n> pretty good head of hair. OTOH, I am bald and thus immune to such attacks.\\n\\n>\\n\\n> My favorite owl episode at Tiger Mtn. occurred 20+ years ago when I went\\n\\n> off the trail into the woods to relieve myself and found myself\\n\\n> face-to-face 3 feet away from a curious Northern Pygmy-Owl.\\n\\n>\\n\\n> Steve Loitz\\n\\n> Ellensburg WA\\n\\n> steveloitz at gmail.com\\n\\n>\\n\\n> On Fri, Sep 15, 2017 at 12:19 PM, Nadine Drisseq <bearsmartwa at gmail.com>\\n\\n> wrote:\\n\\n>\\n\\n>> HI Jeremy,\\n\\n>>\\n\\n>> 14th Pl NE and NE Falls Dr. is just one of several areas in Issaquah\\n\\n>> Highlands where a number of people experienced owl attacks on or around\\n\\n>> this date last year. Is it possible that Barred Owlets are starting to\\n\\n>> leave the parental home range, so that parents might be acting extra\\n\\n>> protective at this time of year? I posted the warning of early morning\\n\\n>> attacks on the Issaquah Highlands FB Group, advising people to wear hats at\\n\\n>> that time since I do Bear Smart and wildlife educational outreach in the\\n\\n>> community. So, thanks for sharing your post. Perhaps we\\'ll get some\\n\\n>> responses with owl ID\\'s.\\n\\n>>\\n\\n>>\\n\\n>> *Nadine Drisseq*\\n\\n>> *Biologist, **Bear Smart WA*\\n\\n>>\\n\\n>> *PO Box 152*\\n\\n>> *Issaquah, WA. 98027*\\n\\n>>\\n\\n>> Tel: (530) 628-7787 (call / text)\\n\\n>> bearsmartwa at gmail.com\\n\\n>> https://www.facebook.com/BearSmartWA/\\n\\n>>\\n\\n>> On Sat, Sep 9, 2017 at 9:44 AM, Jeremy Davis <davisjp23 at hotmail.com>\\n\\n>> wrote:\\n\\n>>\\n\\n>>> Hey all,\\n\\n>>>\\n\\n>>> I was sent this from a buddy of mine who saw it on the Facebook page for\\n\\n>>> the Seattle Mountain Running Group. Be careful out there!\\n\\n>>>\\n\\n>>> Thanks,\\n\\n>>> Jeremy Davis\\n\\n>>> Kenmore, WA\\n\\n>>>\\n\\n>>> ~~~~~~~\\n\\n>>>\\n\\n>>> Jeff Ziegler > Seattle Mountain Running Group\\n\\n>>>\\n\\n>>> Around 5:50 this morning, I was running behind Issaquah High School and\\n\\n>>> had just turned onto the High School Trail to head up to the Lake Tradition\\n\\n>>> Plateau, when I was hit on the back of the head. I turned around to see if\\n\\n>>> someone had snuck up behind me or if I had hit a low branch. Seeing\\n\\n>>> nothing, I again faced forward and saw what I thought was a reflection of\\n\\n>>> an eyeball from my hand lamp moving up the trail around the corner. I\\n\\n>>> followed around the corner, shined my light up the trail and saw an owl\\n\\n>>> sitting on a branch about 100 feet ahead. Deciding it would be best to not\\n\\n>>> continue up the trail, I turned around and headed back the way I had come.\\n\\n>>> I had traveled maybe 30-40 feet when I was again struck on the back of the\\n\\n>>> head. This time I backed up the trail towards the high school parking lot\\n\\n>>> as the owl watched from a branch.\\n\\n>>>\\n\\n>>> At this point I was a little spooked, so I decided to run around in town\\n\\n>>> for a while. As it started to get light and I turned off my hand lamp, I\\n\\n>>> realized I wasnâ€™t wearing my headlamp anymore. What I had thought had been\\n\\n>>> the reflection of light from the owls eye, was actually my headlamp the owl\\n\\n>>> was carrying up the trail after picking it off my head.\\n\\n>>>\\n\\n>>> I then headed to Grand Ridge. Around 7:15as I was heading down the\\n\\n>>> Grand Ridge Trail, a commotion stirred about 10 feet in front of me as an\\n\\n>>> owl took flight from a stump, and took up watch perched on a branch above\\n\\n>>> the trail in front of me. Learning my lesson from earlier, I picked up a\\n\\n>>> stick and started back pedaling back up the trail. I took a quick look\\n\\n>>> behind me to check out where I was going, and when I turned back forward, I\\n\\n>>> saw the owl had swooped down towards me. I started waving the stick in\\n\\n>>> front of me and over my head. The owl put the brakes on mid-air,\\n\\n>>> momentarily hovered over me, and then retreated to a branch a couple of\\n\\n>>> dozen feet in front of me. Without taking my eye off the owl, I reached\\n\\n>>> down, picked up a rock, and threw it off the trunk of the tree the owl was\\n\\n>>> on, and it retreated to another tree farther down the trail. I continued\\n\\n>>> back pedaling up the trail until the owl was well out of site.\\n\\n>>>\\n\\n>>> I then headed back across I-90 to the Lake Tradition Plateau. Around\\n\\n>>> 8:00 I picked up a stick at the top of the High School Trail and headed\\n\\n>>> down with the intent to look for my headlamp. About half way down I had\\n\\n>>> second thoughts and decided I would detour onto what I think is the\\n\\n>>> Boundary Trail through Park Pointe. Just as I made that decision, I was\\n\\n>>> nailed on the back of the head for the third time this morning. Iâ€™m not\\n\\n>>> sure if it was the same owl as from the first attack, but I was probably\\n\\n>>> still .4 of mile up the trail from where the first attacked had occurred.\\n\\n>>> Once again I back pedaled up the trail until the owl was well out of site.\\n\\n>>> I probably look pretty stupid the last couple of miles back to my car\\n\\n>>> waving a stick in the air, and my head on a swivel.\\n\\n>>>\\n\\n>>> Iâ€™m not sure what the deal is. Iâ€™ve run hundreds of miles on Grand Ridge\\n\\n>>> and Tiger Mountain, including a few dozen in the dark, and never been\\n\\n>>> attacked or buzzed by an owl, much less three times in one morning. Iâ€™m now\\n\\n>>> in the market for a new headlamp, and maybe a helmet and body armor.\\n\\n>>>\\n\\n>>> ~~~~~~~\\n\\n>>>\\n\\n>>> Sent from my iPhone\\n\\n\\nPrevious message: [Tweeters] Turkey Vultures\\nNext message: [Tweeters] Seeking swifts\\nMessages sorted by: [ date ] [ thread ] [ subject ] [ author ]\\nMore information about the Tweeters mailing list'}"
      ]
     },
     "execution_count": 12,
     "metadata": {},
     "output_type": "execute_result"
    }
   ],
   "source": [
    "next(cur)"
   ]
  },
  {
   "cell_type": "code",
   "execution_count": 21,
   "metadata": {},
   "outputs": [
    {
     "name": "stdout",
     "output_type": "stream",
     "text": [
      "149\n"
     ]
    }
   ],
   "source": [
    "count = 0\n",
    "for item in collection.find():\n",
    "    count += 1\n",
    "print(count)"
   ]
  },
  {
   "cell_type": "code",
   "execution_count": 23,
   "metadata": {},
   "outputs": [],
   "source": [
    "articles = []\n",
    "for item in collection.find():\n",
    "    articles.append(item)"
   ]
  },
  {
   "cell_type": "code",
   "execution_count": 24,
   "metadata": {},
   "outputs": [
    {
     "data": {
      "text/html": [
       "<div>\n",
       "<style scoped>\n",
       "    .dataframe tbody tr th:only-of-type {\n",
       "        vertical-align: middle;\n",
       "    }\n",
       "\n",
       "    .dataframe tbody tr th {\n",
       "        vertical-align: top;\n",
       "    }\n",
       "\n",
       "    .dataframe thead th {\n",
       "        text-align: right;\n",
       "    }\n",
       "</style>\n",
       "<table border=\"1\" class=\"dataframe\">\n",
       "  <thead>\n",
       "    <tr style=\"text-align: right;\">\n",
       "      <th></th>\n",
       "      <th>_id</th>\n",
       "      <th>author</th>\n",
       "      <th>date</th>\n",
       "      <th>text</th>\n",
       "      <th>title</th>\n",
       "    </tr>\n",
       "  </thead>\n",
       "  <tbody>\n",
       "    <tr>\n",
       "      <th>0</th>\n",
       "      <td>5cc399c6ec363db408bac98a</td>\n",
       "      <td>Bob Pearson</td>\n",
       "      <td>Mon Sep 18 08:31:57 PDT 2017</td>\n",
       "      <td>A few things to add about the “owl attack.” Th...</td>\n",
       "      <td>Owl Attack</td>\n",
       "    </tr>\n",
       "    <tr>\n",
       "      <th>1</th>\n",
       "      <td>5cc399d0ec363db408bac98b</td>\n",
       "      <td>J. Acker</td>\n",
       "      <td>Sun Sep 20 12:43:46 PDT 2015</td>\n",
       "      <td>These events are reported annually at this tim...</td>\n",
       "      <td>Barred owl attack? Why now?</td>\n",
       "    </tr>\n",
       "    <tr>\n",
       "      <th>2</th>\n",
       "      <td>5cc399d7ec363db408bac98c</td>\n",
       "      <td>Paul Bannick</td>\n",
       "      <td>Sun Sep 17 10:50:24 PDT 2017</td>\n",
       "      <td>Hi Tweets,\\n\\nJamie Acker and I had have discu...</td>\n",
       "      <td>Owl Attack</td>\n",
       "    </tr>\n",
       "    <tr>\n",
       "      <th>3</th>\n",
       "      <td>5cc399e2ec363db408bac98d</td>\n",
       "      <td>noelle c</td>\n",
       "      <td>Sun Sep 17 12:58:25 PDT 2017</td>\n",
       "      <td>Many years ago working in seabird colonies, wh...</td>\n",
       "      <td>Owl Attack</td>\n",
       "    </tr>\n",
       "    <tr>\n",
       "      <th>4</th>\n",
       "      <td>5cc399eaec363db408bac98e</td>\n",
       "      <td>johntubbs at comcast.net</td>\n",
       "      <td>Wed Jun 19 21:57:28 PDT 2013</td>\n",
       "      <td>\\n\\nHi everyone,\\n\\n\\n\\nWe had a related expe ...</td>\n",
       "      <td>Ruffed Grouse on the attack</td>\n",
       "    </tr>\n",
       "  </tbody>\n",
       "</table>\n",
       "</div>"
      ],
      "text/plain": [
       "                        _id                    author  \\\n",
       "0  5cc399c6ec363db408bac98a               Bob Pearson   \n",
       "1  5cc399d0ec363db408bac98b                  J. Acker   \n",
       "2  5cc399d7ec363db408bac98c              Paul Bannick   \n",
       "3  5cc399e2ec363db408bac98d                  noelle c   \n",
       "4  5cc399eaec363db408bac98e  johntubbs at comcast.net   \n",
       "\n",
       "                           date  \\\n",
       "0  Mon Sep 18 08:31:57 PDT 2017   \n",
       "1  Sun Sep 20 12:43:46 PDT 2015   \n",
       "2  Sun Sep 17 10:50:24 PDT 2017   \n",
       "3  Sun Sep 17 12:58:25 PDT 2017   \n",
       "4  Wed Jun 19 21:57:28 PDT 2013   \n",
       "\n",
       "                                                text  \\\n",
       "0  A few things to add about the “owl attack.” Th...   \n",
       "1  These events are reported annually at this tim...   \n",
       "2  Hi Tweets,\\n\\nJamie Acker and I had have discu...   \n",
       "3  Many years ago working in seabird colonies, wh...   \n",
       "4  \\n\\nHi everyone,\\n\\n\\n\\nWe had a related expe ...   \n",
       "\n",
       "                         title  \n",
       "0                   Owl Attack  \n",
       "1  Barred owl attack? Why now?  \n",
       "2                   Owl Attack  \n",
       "3                   Owl Attack  \n",
       "4  Ruffed Grouse on the attack  "
      ]
     },
     "execution_count": 24,
     "metadata": {},
     "output_type": "execute_result"
    }
   ],
   "source": [
    "df = pd.DataFrame(articles)\n",
    "df.head()"
   ]
  },
  {
   "cell_type": "code",
   "execution_count": 25,
   "metadata": {},
   "outputs": [
    {
     "data": {
      "text/plain": [
       "array(['Bob Pearson', 'J. Acker', 'Paul Bannick', 'noelle c',\n",
       "       'johntubbs at comcast.net', 'Rick Taylor',\n",
       "       'clsouth at u.washington.edu', 'Steve Loitz', 'Doug Parrott',\n",
       "       'Rolan Nelson', 'Nadine Drisseq', 'Hank H', 'John Tubbs',\n",
       "       'Carol Schulz', 'Bill Anderson', 'Ann Marie Wood',\n",
       "       'J Christian Kessler', 'Rob Sandelin', 'Dan Reiff', 'D. Gluckman',\n",
       "       'Hal Michael', 'Mark Oberle', 'Roger', 'Bud Anderson',\n",
       "       'Joshua Glant', 'Jeremy Davis', 'Helen Gilbert', 'Kevin Purcell',\n",
       "       'Christine Southwick', 'Caryn Schutzler', 'Dennis Moore',\n",
       "       'Eric Ellingson', 'Dea', 'Patrick Forster', 'Scott Atkinson',\n",
       "       'Tucker, Trileigh', 'Lee Rentz', 'John Gatchet', 'John Riegsecker',\n",
       "       'Gary Bletsch', 'Ed Newbold', 'Elizabeth Boyd', 'Mike Hamilton',\n",
       "       'mary hrudkaj', 'owler at sounddsl.com', 'Ellen Blackstone',\n",
       "       'Michelle Landis', 'Danver Hartop', 'Jeff Gibson',\n",
       "       'Dan Reiff, PhD', 'Christopher Clark', 'Rachel Lawson',\n",
       "       'CHARLES E. VAUGHAN', 'Larry Schwitters', 'Rob Conway',\n",
       "       'Connie Sidles', 'Anthony', 'seasprocket at gmail.com',\n",
       "       'Devorah the Ornithologist', 'plkoyama at comcast.net',\n",
       "       'Devon Comstock', 'Walter Szeliga', 'Mechejmch', 'Hope Anderson',\n",
       "       'Barbara Deihl', 'Al n Donna', 'Mark Egger', 'Michael Hobbs',\n",
       "       'Andrew McCormick', 'don at picturebookpublishing.com',\n",
       "       'Liz Hemberry', 'kertim7179 at yahoo.com', 'Jfgatchet',\n",
       "       'Marv Breece', 'Ivar Husa', 'Diane W', 'Wayne Weber',\n",
       "       'Jennifer DeSelle', 'Scott Ramos', 'David Hutchinson',\n",
       "       'jeff gibson', 'Diane Yorgason-Quinn', 'Thomas M Leschine',\n",
       "       'Blair Bernson', 'B&PBell', 'Constance Sidles',\n",
       "       'lsr at ramoslink.info', 'henneq', 'Kenneth Trease', 'Jeff Kozma',\n",
       "       'JeffO', 'Ed Swan', 'Byers', 'Tom Mansfield', 'pan',\n",
       "       'Terry Little', 'Tony', 'Rex S. Takasugi', 'Denise Aubuchon',\n",
       "       'scrubjay323 at aol.com', 'Gary', 'James McGough', 'Doug Brown',\n",
       "       'Patti Loesche'], dtype=object)"
      ]
     },
     "execution_count": 25,
     "metadata": {},
     "output_type": "execute_result"
    }
   ],
   "source": [
    "df.author.unique()"
   ]
  },
  {
   "cell_type": "code",
   "execution_count": 29,
   "metadata": {},
   "outputs": [
    {
     "data": {
      "text/plain": [
       "mary hrudkaj                5\n",
       "Mike Hamilton               4\n",
       "Hal Michael                 4\n",
       "Ed Newbold                  4\n",
       "Joshua Glant                3\n",
       "Gary Bletsch                3\n",
       "Jeff Gibson                 3\n",
       "Bud Anderson                3\n",
       "Barbara Deihl               3\n",
       "Marv Breece                 3\n",
       "Bill Anderson               3\n",
       "Caryn Schutzler             3\n",
       "J. Acker                    2\n",
       "johntubbs at comcast.net    2\n",
       "jeff gibson                 2\n",
       "Scott Ramos                 2\n",
       "Helen Gilbert               2\n",
       "Christine Southwick         2\n",
       "Rob Sandelin                2\n",
       "Ellen Blackstone            2\n",
       "Name: author, dtype: int64"
      ]
     },
     "execution_count": 29,
     "metadata": {},
     "output_type": "execute_result"
    }
   ],
   "source": [
    "df.author.value_counts().head(20)"
   ]
  },
  {
   "cell_type": "code",
   "execution_count": 44,
   "metadata": {},
   "outputs": [
    {
     "data": {
      "text/plain": [
       "['mary hrudkaj',\n",
       " 'Mike Hamilton',\n",
       " 'Hal Michael',\n",
       " 'Ed Newbold',\n",
       " 'Joshua Glant',\n",
       " 'Gary Bletsch',\n",
       " 'Jeff Gibson',\n",
       " 'Bud Anderson',\n",
       " 'Barbara Deihl',\n",
       " 'Marv Breece',\n",
       " 'Bill Anderson',\n",
       " 'Caryn Schutzler',\n",
       " 'J. Acker',\n",
       " 'johntubbs at comcast.net',\n",
       " 'jeff gibson',\n",
       " 'Scott Ramos',\n",
       " 'Helen Gilbert',\n",
       " 'Christine Southwick',\n",
       " 'Rob Sandelin',\n",
       " 'Ellen Blackstone']"
      ]
     },
     "execution_count": 44,
     "metadata": {},
     "output_type": "execute_result"
    }
   ],
   "source": [
    "top_posters = df.author.value_counts().head(20).index\n",
    "list(top_posters)"
   ]
  },
  {
   "cell_type": "code",
   "execution_count": 51,
   "metadata": {},
   "outputs": [],
   "source": [
    "top_a_posters = df.loc[df['author'].isin(list(top_posters))]\n",
    "top_a_posters = top_a_posters.drop(['_id'], axis=1)"
   ]
  },
  {
   "cell_type": "code",
   "execution_count": 53,
   "metadata": {},
   "outputs": [
    {
     "data": {
      "text/html": [
       "<div>\n",
       "<style scoped>\n",
       "    .dataframe tbody tr th:only-of-type {\n",
       "        vertical-align: middle;\n",
       "    }\n",
       "\n",
       "    .dataframe tbody tr th {\n",
       "        vertical-align: top;\n",
       "    }\n",
       "\n",
       "    .dataframe thead th {\n",
       "        text-align: right;\n",
       "    }\n",
       "</style>\n",
       "<table border=\"1\" class=\"dataframe\">\n",
       "  <thead>\n",
       "    <tr style=\"text-align: right;\">\n",
       "      <th></th>\n",
       "      <th>author</th>\n",
       "      <th>date</th>\n",
       "      <th>text</th>\n",
       "      <th>title</th>\n",
       "    </tr>\n",
       "  </thead>\n",
       "  <tbody>\n",
       "    <tr>\n",
       "      <th>1</th>\n",
       "      <td>J. Acker</td>\n",
       "      <td>Sun Sep 20 12:43:46 PDT 2015</td>\n",
       "      <td>These events are reported annually at this tim...</td>\n",
       "      <td>Barred owl attack? Why now?</td>\n",
       "    </tr>\n",
       "    <tr>\n",
       "      <th>4</th>\n",
       "      <td>johntubbs at comcast.net</td>\n",
       "      <td>Wed Jun 19 21:57:28 PDT 2013</td>\n",
       "      <td>\\n\\nHi everyone,\\n\\n\\n\\nWe had a related expe ...</td>\n",
       "      <td>Ruffed Grouse on the attack</td>\n",
       "    </tr>\n",
       "    <tr>\n",
       "      <th>15</th>\n",
       "      <td>Bill Anderson</td>\n",
       "      <td>Sat Sep 9 11:46:04 PDT 2017</td>\n",
       "      <td>One explanation I have heard for attacks by ba...</td>\n",
       "      <td>Owl Attack</td>\n",
       "    </tr>\n",
       "    <tr>\n",
       "      <th>19</th>\n",
       "      <td>Rob Sandelin</td>\n",
       "      <td>Sat Sep 19 20:59:48 PDT 2015</td>\n",
       "      <td>A neighbor just came over traumatized from her...</td>\n",
       "      <td>Barred owl attack? Why now?</td>\n",
       "    </tr>\n",
       "    <tr>\n",
       "      <th>22</th>\n",
       "      <td>Hal Michael</td>\n",
       "      <td>Mon Sep 21 13:08:37 PDT 2015</td>\n",
       "      <td>Within the world of birds and nesting there ar...</td>\n",
       "      <td>Owl attack, why now?</td>\n",
       "    </tr>\n",
       "  </tbody>\n",
       "</table>\n",
       "</div>"
      ],
      "text/plain": [
       "                      author                          date  \\\n",
       "1                   J. Acker  Sun Sep 20 12:43:46 PDT 2015   \n",
       "4   johntubbs at comcast.net  Wed Jun 19 21:57:28 PDT 2013   \n",
       "15             Bill Anderson   Sat Sep 9 11:46:04 PDT 2017   \n",
       "19              Rob Sandelin  Sat Sep 19 20:59:48 PDT 2015   \n",
       "22               Hal Michael  Mon Sep 21 13:08:37 PDT 2015   \n",
       "\n",
       "                                                 text  \\\n",
       "1   These events are reported annually at this tim...   \n",
       "4   \\n\\nHi everyone,\\n\\n\\n\\nWe had a related expe ...   \n",
       "15  One explanation I have heard for attacks by ba...   \n",
       "19  A neighbor just came over traumatized from her...   \n",
       "22  Within the world of birds and nesting there ar...   \n",
       "\n",
       "                          title  \n",
       "1   Barred owl attack? Why now?  \n",
       "4   Ruffed Grouse on the attack  \n",
       "15                   Owl Attack  \n",
       "19  Barred owl attack? Why now?  \n",
       "22         Owl attack, why now?  "
      ]
     },
     "execution_count": 53,
     "metadata": {},
     "output_type": "execute_result"
    }
   ],
   "source": [
    "top_a_posters.head()"
   ]
  },
  {
   "cell_type": "code",
   "execution_count": 56,
   "metadata": {},
   "outputs": [],
   "source": [
    "top_a_posters['owl'] = top_a_posters.loc['owl' in top_a_posters.text]"
   ]
  },
  {
   "cell_type": "code",
   "execution_count": 59,
   "metadata": {},
   "outputs": [
    {
     "data": {
      "text/plain": [
       "Index(['author', 'date', 'text', 'title', 'owl'], dtype='object')"
      ]
     },
     "execution_count": 59,
     "metadata": {},
     "output_type": "execute_result"
    }
   ],
   "source": [
    "top_a_posters.columns"
   ]
  },
  {
   "cell_type": "code",
   "execution_count": null,
   "metadata": {},
   "outputs": [],
   "source": []
  }
 ],
 "metadata": {
  "kernelspec": {
   "display_name": "learn-env",
   "language": "python",
   "name": "learn-env"
  },
  "language_info": {
   "codemirror_mode": {
    "name": "ipython",
    "version": 3
   },
   "file_extension": ".py",
   "mimetype": "text/x-python",
   "name": "python",
   "nbconvert_exporter": "python",
   "pygments_lexer": "ipython3",
   "version": "3.6.6"
  }
 },
 "nbformat": 4,
 "nbformat_minor": 2
}
